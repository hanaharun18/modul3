{
 "cells": [
  {
   "cell_type": "code",
   "execution_count": 1,
   "id": "df3723a7-e79e-405e-890b-dcfa41ee98d3",
   "metadata": {},
   "outputs": [
    {
     "name": "stdout",
     "output_type": "stream",
     "text": [
      "      Price  SqFt  Bedrooms  Bathrooms  Offers Brick Neighborhood\n",
      "0    114300  1790         2          2       2    No         East\n",
      "1    114200  2030         4          2       3    No         East\n",
      "2    114800  1740         3          2       1    No         East\n",
      "3     94700  1980         3          2       3    No         East\n",
      "4    119800  2130         3          3       3    No         East\n",
      "..      ...   ...       ...        ...     ...   ...          ...\n",
      "123  119700  1900         3          3       3   Yes         East\n",
      "124  147900  2160         4          3       3   Yes         East\n",
      "125  113500  2070         2          2       2    No        North\n",
      "126  149900  2020         3          3       1    No         West\n",
      "127  124600  2250         3          3       4    No        North\n",
      "\n",
      "[128 rows x 7 columns]\n"
     ]
    }
   ],
   "source": [
    "import pandas as pd\n",
    "\n",
    "data_hana = pd.read_clipboard()\n",
    "\n",
    "# Menampilkan data\n",
    "print(data_hana)\n"
   ]
  },
  {
   "cell_type": "code",
   "execution_count": 3,
   "id": "eb54d1f8-c3c0-450f-8261-d24822caea6d",
   "metadata": {},
   "outputs": [
    {
     "name": "stdout",
     "output_type": "stream",
     "text": [
      "      Price  SqFt  Bedrooms  Bathrooms  Offers Brick Neighborhood\n",
      "0    114300  1790         2          2       2    No         East\n",
      "11   123000  1870         2          2       2   Yes         East\n",
      "18   111400  1700         2          2       1   Yes         East\n",
      "28    69100  1600         2          2       3    No        North\n",
      "31   112300  1930         2          2       2   Yes        North\n",
      "34   117800  2000         2          2       3    No        North\n",
      "36   117500  1880         2          2       2    No        North\n",
      "40   106600  1560         2          2       1    No         East\n",
      "42   105600  1990         2          2       3    No         East\n",
      "46   129800  1990         2          3       2    No        North\n",
      "48   115900  1980         2          2       2    No         East\n",
      "51    91100  1860         2          2       3    No        North\n",
      "52   117400  2150         2          3       4    No        North\n",
      "55   125700  1720         2          2       2   Yes         East\n",
      "61   100900  1610         2          2       2    No        North\n",
      "63   120500  1910         2          3       2    No         East\n",
      "65   111100  1450         2          2       1   Yes        North\n",
      "75   106900  1900         2          2       2    No        North\n",
      "82   164800  2050         2          2       1   Yes         West\n",
      "84    90500  1520         2          2       3    No        North\n",
      "89    97800  2010         2          2       4    No        North\n",
      "95   152500  1970         2          2       1   Yes         West\n",
      "97   126800  2000         2          2       1   Yes         East\n",
      "110  111600  1710         2          2       1    No        North\n",
      "111  114900  1740         2          2       2    No        North\n",
      "112  123600  1940         2          2       2   Yes         East\n",
      "119  109700  1920         2          2       4    No        North\n",
      "120  110400  1930         2          3       3    No        North\n",
      "122  144800  2060         2          2       1   Yes         East\n",
      "125  113500  2070         2          2       2    No        North\n"
     ]
    }
   ],
   "source": [
    "hana = data_hana[data_hana['Bedrooms'] == 2]\n",
    "\n",
    "# Menampilkan nama\n",
    "print(hana)\n"
   ]
  },
  {
   "cell_type": "code",
   "execution_count": 5,
   "id": "45cc7981-fb92-409e-a0b2-192b4a789261",
   "metadata": {},
   "outputs": [
    {
     "name": "stdout",
     "output_type": "stream",
     "text": [
      "      Price  SqFt  Bedrooms Bathrooms  Offers Brick Neighborhood\n",
      "0    114300  1790         2     small       2    No         East\n",
      "11   123000  1870         2     small       2   Yes         East\n",
      "18   111400  1700         2     small       1   Yes         East\n",
      "28    69100  1600         2     small       3    No        North\n",
      "31   112300  1930         2     small       2   Yes        North\n",
      "34   117800  2000         2     small       3    No        North\n",
      "36   117500  1880         2     small       2    No        North\n",
      "40   106600  1560         2     small       1    No         East\n",
      "42   105600  1990         2     small       3    No         East\n",
      "46   129800  1990         2     large       2    No        North\n",
      "48   115900  1980         2     small       2    No         East\n",
      "51    91100  1860         2     small       3    No        North\n",
      "52   117400  2150         2     large       4    No        North\n",
      "55   125700  1720         2     small       2   Yes         East\n",
      "61   100900  1610         2     small       2    No        North\n",
      "63   120500  1910         2     large       2    No         East\n",
      "65   111100  1450         2     small       1   Yes        North\n",
      "75   106900  1900         2     small       2    No        North\n",
      "82   164800  2050         2     small       1   Yes         West\n",
      "84    90500  1520         2     small       3    No        North\n",
      "89    97800  2010         2     small       4    No        North\n",
      "95   152500  1970         2     small       1   Yes         West\n",
      "97   126800  2000         2     small       1   Yes         East\n",
      "110  111600  1710         2     small       1    No        North\n",
      "111  114900  1740         2     small       2    No        North\n",
      "112  123600  1940         2     small       2   Yes         East\n",
      "119  109700  1920         2     small       4    No        North\n",
      "120  110400  1930         2     large       3    No        North\n",
      "122  144800  2060         2     small       1   Yes         East\n",
      "125  113500  2070         2     small       2    No        North\n"
     ]
    },
    {
     "name": "stderr",
     "output_type": "stream",
     "text": [
      "C:\\Users\\csdln\\AppData\\Local\\Temp\\ipykernel_21804\\1867185456.py:1: SettingWithCopyWarning: \n",
      "A value is trying to be set on a copy of a slice from a DataFrame.\n",
      "Try using .loc[row_indexer,col_indexer] = value instead\n",
      "\n",
      "See the caveats in the documentation: https://pandas.pydata.org/pandas-docs/stable/user_guide/indexing.html#returning-a-view-versus-a-copy\n",
      "  hana['Bathrooms'] = pd.to_numeric(hana['Bathrooms'])\n",
      "C:\\Users\\csdln\\AppData\\Local\\Temp\\ipykernel_21804\\1867185456.py:5: SettingWithCopyWarning: \n",
      "A value is trying to be set on a copy of a slice from a DataFrame.\n",
      "Try using .loc[row_indexer,col_indexer] = value instead\n",
      "\n",
      "See the caveats in the documentation: https://pandas.pydata.org/pandas-docs/stable/user_guide/indexing.html#returning-a-view-versus-a-copy\n",
      "  hana['Bathrooms'] = hana['Bathrooms'].apply(lambda x: 'large' if x > 2 else 'small')\n"
     ]
    }
   ],
   "source": [
    "hana['Bathrooms'] = pd.to_numeric(hana['Bathrooms'])\n",
    "\n",
    "import numpy as np\n",
    "\n",
    "hana['Bathrooms'] = hana['Bathrooms'].apply(lambda x: 'large' if x > 2 else 'small')\n",
    "\n",
    "# Menampilkan DataFrame setelah modifikasi\n",
    "print(hana)\n"
   ]
  },
  {
   "cell_type": "code",
   "execution_count": 7,
   "id": "feccb909-0ddd-49fc-919c-11493f55c334",
   "metadata": {},
   "outputs": [
    {
     "name": "stdout",
     "output_type": "stream",
     "text": [
      "      Price  SqFt  Bedrooms Bathrooms  Offers Brick Neighborhood newvariable\n",
      "0    114300  1790         2     small       2    No         East       small\n",
      "11   123000  1870         2     small       2   Yes         East       small\n",
      "18   111400  1700         2     small       1   Yes         East       small\n",
      "28    69100  1600         2     small       3    No        North       large\n",
      "31   112300  1930         2     small       2   Yes        North       small\n",
      "34   117800  2000         2     small       3    No        North       large\n",
      "36   117500  1880         2     small       2    No        North       small\n",
      "40   106600  1560         2     small       1    No         East       small\n",
      "42   105600  1990         2     small       3    No         East       large\n",
      "46   129800  1990         2     large       2    No        North       small\n",
      "48   115900  1980         2     small       2    No         East       small\n",
      "51    91100  1860         2     small       3    No        North       large\n",
      "52   117400  2150         2     large       4    No        North       large\n",
      "55   125700  1720         2     small       2   Yes         East       small\n",
      "61   100900  1610         2     small       2    No        North       small\n",
      "63   120500  1910         2     large       2    No         East       small\n",
      "65   111100  1450         2     small       1   Yes        North       small\n",
      "75   106900  1900         2     small       2    No        North       small\n",
      "82   164800  2050         2     small       1   Yes         West       small\n",
      "84    90500  1520         2     small       3    No        North       large\n",
      "89    97800  2010         2     small       4    No        North       large\n",
      "95   152500  1970         2     small       1   Yes         West       small\n",
      "97   126800  2000         2     small       1   Yes         East       small\n",
      "110  111600  1710         2     small       1    No        North       small\n",
      "111  114900  1740         2     small       2    No        North       small\n",
      "112  123600  1940         2     small       2   Yes         East       small\n",
      "119  109700  1920         2     small       4    No        North       large\n",
      "120  110400  1930         2     large       3    No        North       large\n",
      "122  144800  2060         2     small       1   Yes         East       small\n",
      "125  113500  2070         2     small       2    No        North       small\n"
     ]
    },
    {
     "name": "stderr",
     "output_type": "stream",
     "text": [
      "C:\\Users\\csdln\\AppData\\Local\\Temp\\ipykernel_21804\\726889321.py:3: SettingWithCopyWarning: \n",
      "A value is trying to be set on a copy of a slice from a DataFrame.\n",
      "Try using .loc[row_indexer,col_indexer] = value instead\n",
      "\n",
      "See the caveats in the documentation: https://pandas.pydata.org/pandas-docs/stable/user_guide/indexing.html#returning-a-view-versus-a-copy\n",
      "  hana['newvariable'] = np.where(hana['Offers'] > 2, 'large', 'small')\n"
     ]
    }
   ],
   "source": [
    "import numpy as np\n",
    "\n",
    "hana['newvariable'] = np.where(hana['Offers'] > 2, 'large', 'small')\n",
    "\n",
    "# Menampilkan DataFrame 'nama' setelah penambahan kolom baru\n",
    "print(hana)\n"
   ]
  },
  {
   "cell_type": "code",
   "execution_count": 9,
   "id": "09893a57-ab40-4a4f-9ff4-e03f34c4572e",
   "metadata": {},
   "outputs": [
    {
     "name": "stdout",
     "output_type": "stream",
     "text": [
      "      Price  SqFt  Bedrooms Bathrooms  Offers Brick Neighborhood  newvariable\n",
      "0    114300  1790         2     small       2    No         East    63.854749\n",
      "11   123000  1870         2     small       2   Yes         East    65.775401\n",
      "18   111400  1700         2     small       1   Yes         East    65.529412\n",
      "28    69100  1600         2     small       3    No        North    43.187500\n",
      "31   112300  1930         2     small       2   Yes        North    58.186528\n",
      "34   117800  2000         2     small       3    No        North    58.900000\n",
      "36   117500  1880         2     small       2    No        North    62.500000\n",
      "40   106600  1560         2     small       1    No         East    68.333333\n",
      "42   105600  1990         2     small       3    No         East    53.065327\n",
      "46   129800  1990         2     large       2    No        North    65.226131\n",
      "48   115900  1980         2     small       2    No         East    58.535354\n",
      "51    91100  1860         2     small       3    No        North    48.978495\n",
      "52   117400  2150         2     large       4    No        North    54.604651\n",
      "55   125700  1720         2     small       2   Yes         East    73.081395\n",
      "61   100900  1610         2     small       2    No        North    62.670807\n",
      "63   120500  1910         2     large       2    No         East    63.089005\n",
      "65   111100  1450         2     small       1   Yes        North    76.620690\n",
      "75   106900  1900         2     small       2    No        North    56.263158\n",
      "82   164800  2050         2     small       1   Yes         West    80.390244\n",
      "84    90500  1520         2     small       3    No        North    59.539474\n",
      "89    97800  2010         2     small       4    No        North    48.656716\n",
      "95   152500  1970         2     small       1   Yes         West    77.411168\n",
      "97   126800  2000         2     small       1   Yes         East    63.400000\n",
      "110  111600  1710         2     small       1    No        North    65.263158\n",
      "111  114900  1740         2     small       2    No        North    66.034483\n",
      "112  123600  1940         2     small       2   Yes         East    63.711340\n",
      "119  109700  1920         2     small       4    No        North    57.135417\n",
      "120  110400  1930         2     large       3    No        North    57.202073\n",
      "122  144800  2060         2     small       1   Yes         East    70.291262\n",
      "125  113500  2070         2     small       2    No        North    54.830918\n"
     ]
    },
    {
     "name": "stderr",
     "output_type": "stream",
     "text": [
      "C:\\Users\\csdln\\AppData\\Local\\Temp\\ipykernel_21804\\147198468.py:2: SettingWithCopyWarning: \n",
      "A value is trying to be set on a copy of a slice from a DataFrame.\n",
      "Try using .loc[row_indexer,col_indexer] = value instead\n",
      "\n",
      "See the caveats in the documentation: https://pandas.pydata.org/pandas-docs/stable/user_guide/indexing.html#returning-a-view-versus-a-copy\n",
      "  hana['newvariable'] = hana['Price'] / hana['SqFt']\n"
     ]
    }
   ],
   "source": [
    "# Menambahkan kolom baru 'newvariable' \n",
    "hana['newvariable'] = hana['Price'] / hana['SqFt']\n",
    "\n",
    "# Menampilkan DataFrame 'nama' setelah penambahan kolom baru\n",
    "print(hana)\n"
   ]
  },
  {
   "cell_type": "code",
   "execution_count": 11,
   "id": "8013157e-b35b-43d1-9409-cf826f9a4588",
   "metadata": {},
   "outputs": [
    {
     "name": "stdout",
     "output_type": "stream",
     "text": [
      "      Price  SqFt  Bedrooms Bathrooms  Offers Brick Neighborhood\n",
      "0    114300  1790         2     small       2    No         East\n",
      "11   123000  1870         2     small       2   Yes         East\n",
      "18   111400  1700         2     small       1   Yes         East\n",
      "28    69100  1600         2     small       3    No        North\n",
      "31   112300  1930         2     small       2   Yes        North\n",
      "34   117800  2000         2     small       3    No        North\n",
      "36   117500  1880         2     small       2    No        North\n",
      "40   106600  1560         2     small       1    No         East\n",
      "42   105600  1990         2     small       3    No         East\n",
      "46   129800  1990         2     large       2    No        North\n",
      "48   115900  1980         2     small       2    No         East\n",
      "51    91100  1860         2     small       3    No        North\n",
      "52   117400  2150         2     large       4    No        North\n",
      "55   125700  1720         2     small       2   Yes         East\n",
      "61   100900  1610         2     small       2    No        North\n",
      "63   120500  1910         2     large       2    No         East\n",
      "65   111100  1450         2     small       1   Yes        North\n",
      "75   106900  1900         2     small       2    No        North\n",
      "82   164800  2050         2     small       1   Yes         West\n",
      "84    90500  1520         2     small       3    No        North\n",
      "89    97800  2010         2     small       4    No        North\n",
      "95   152500  1970         2     small       1   Yes         West\n",
      "97   126800  2000         2     small       1   Yes         East\n",
      "110  111600  1710         2     small       1    No        North\n",
      "111  114900  1740         2     small       2    No        North\n",
      "112  123600  1940         2     small       2   Yes         East\n",
      "119  109700  1920         2     small       4    No        North\n",
      "120  110400  1930         2     large       3    No        North\n",
      "122  144800  2060         2     small       1   Yes         East\n",
      "125  113500  2070         2     small       2    No        North\n"
     ]
    }
   ],
   "source": [
    "hana = hana.drop(columns=['newvariable'])\n",
    "\n",
    "# Menampilkan DataFrame 'nama' \n",
    "print(hana)\n"
   ]
  },
  {
   "cell_type": "code",
   "execution_count": 13,
   "id": "1b0bc094-5a27-49dc-a455-8d1d6ce3b0f1",
   "metadata": {},
   "outputs": [
    {
     "name": "stdout",
     "output_type": "stream",
     "text": [
      "      Price  SqFt\n",
      "0    114300  1790\n",
      "1    114200  2030\n",
      "2    114800  1740\n",
      "3     94700  1980\n",
      "4    119800  2130\n",
      "..      ...   ...\n",
      "123  119700  1900\n",
      "124  147900  2160\n",
      "125  113500  2070\n",
      "126  149900  2020\n",
      "127  124600  2250\n",
      "\n",
      "[128 rows x 2 columns]\n"
     ]
    }
   ],
   "source": [
    "kolom1dan2 = data_hana.iloc[:, 0:2]\n",
    "\n",
    "# Menampilkan DataFrame kolom1dan2\n",
    "print(kolom1dan2)\n"
   ]
  },
  {
   "cell_type": "code",
   "execution_count": 15,
   "id": "b9f9d837-90d2-44f0-8fc4-2e50ba18691c",
   "metadata": {},
   "outputs": [
    {
     "name": "stdout",
     "output_type": "stream",
     "text": [
      "     Bedrooms  Bathrooms\n",
      "0           2          2\n",
      "1           4          2\n",
      "2           3          2\n",
      "3           3          2\n",
      "4           3          3\n",
      "..        ...        ...\n",
      "123         3          3\n",
      "124         4          3\n",
      "125         2          2\n",
      "126         3          3\n",
      "127         3          3\n",
      "\n",
      "[128 rows x 2 columns]\n"
     ]
    }
   ],
   "source": [
    "# Memilih kolom 1 dan 2 dari DataFrame data_nama\n",
    "kolom3dan4 = data_hana.iloc[:, 2:4]\n",
    "\n",
    "# Menampilkan DataFrame kolom3dan4\n",
    "print(kolom3dan4)\n"
   ]
  },
  {
   "cell_type": "code",
   "execution_count": 17,
   "id": "e932faa8-30c0-4258-b05b-f7dc1b6d10b8",
   "metadata": {},
   "outputs": [
    {
     "name": "stdout",
     "output_type": "stream",
     "text": [
      "      Price  SqFt  Bedrooms  Bathrooms\n",
      "0    114300  1790         2          2\n",
      "1    114200  2030         4          2\n",
      "2    114800  1740         3          2\n",
      "3     94700  1980         3          2\n",
      "4    119800  2130         3          3\n",
      "..      ...   ...       ...        ...\n",
      "123  119700  1900         3          3\n",
      "124  147900  2160         4          3\n",
      "125  113500  2070         2          2\n",
      "126  149900  2020         3          3\n",
      "127  124600  2250         3          3\n",
      "\n",
      "[128 rows x 4 columns]\n"
     ]
    }
   ],
   "source": [
    "# Menggabungkan dua DataFrame \n",
    "kolom1sd4 = pd.concat([kolom1dan2, kolom3dan4], axis=1)\n",
    "\n",
    "# Menampilkan DataFrame kolom1sd4\n",
    "print(kolom1sd4)\n"
   ]
  },
  {
   "cell_type": "code",
   "execution_count": 31,
   "id": "3e4f6fd8-fc01-408b-ab3e-92707791583d",
   "metadata": {},
   "outputs": [
    {
     "name": "stdout",
     "output_type": "stream",
     "text": [
      "    Price  SqFt  Bedrooms  Bathrooms  Offers Brick Neighborhood\n",
      "0  114300  1790         2          2       2    No         East\n",
      "1  114200  2030         4          2       3    No         East\n",
      "2  114800  1740         3          2       1    No         East\n",
      "3   94700  1980         3          2       3    No         East\n",
      "4  119800  2130         3          3       3    No         East\n",
      "5  114600  1780         3          2       2    No        North\n"
     ]
    }
   ],
   "source": [
    "import pandas as pd\n",
    "\n",
    "# Menggabungkan baris dari dua DataFrame\n",
    "baris1sd3 = data_hana.iloc[0:3, :]\n",
    "baris4sd6 = data_hana.iloc[3:6, :]\n",
    "baris1sd6 = baris1sd3.append(baris4sd6)\n",
    "\n",
    "# Menampilkan DataFrame baris1sd6\n",
    "print(baris1sd6)\n"
   ]
  },
  {
   "cell_type": "code",
   "execution_count": 33,
   "id": "a0824abd-18ea-4cb7-aaee-4ca64f1afef3",
   "metadata": {},
   "outputs": [
    {
     "name": "stdout",
     "output_type": "stream",
     "text": [
      "      Price  SqFt  Bedrooms  Bathrooms  Offers Brick Neighborhood\n",
      "28    69100  1600         2          2       3    No        North\n",
      "54    81300  1650         3          2       3    No        North\n",
      "104   82300  1910         3          2       4    No         East\n",
      "17    83600  1990         3          3       4    No        North\n",
      "47    90300  2050         3          2       6    No        North\n",
      "..      ...   ...       ...        ...     ...   ...          ...\n",
      "81   184300  2140         4          3       2   Yes         West\n",
      "29   188000  2040         4          3       1   Yes         West\n",
      "85   188300  2250         4          3       2   Yes         West\n",
      "116  199500  2290         5          4       1   Yes         West\n",
      "103  211200  2440         4          3       3   Yes         West\n",
      "\n",
      "[128 rows x 7 columns]\n"
     ]
    }
   ],
   "source": [
    "data_hana_sort = data_hana.sort_values(by='Price')\n",
    "\n",
    "print(data_hana_sort)\n"
   ]
  },
  {
   "cell_type": "code",
   "execution_count": 35,
   "id": "779b36b6-3f20-4212-8af2-b83a6d1ef62c",
   "metadata": {},
   "outputs": [
    {
     "name": "stdout",
     "output_type": "stream",
     "text": [
      "         Nama Gender  Angkatan  Tinggi Badan  Waktu Belajar Wilayah Tinggal\n",
      "0        Hana      P      2024           155             15         Jakarta\n",
      "1       Jorji      L      2024           160             70      Tanggerang\n",
      "2        Arip      L      2024           170             60          Bekasi\n",
      "3      Satria      L      2024           170             30         Jakarta\n",
      "4      Fadhil      L      2024           170             40          Bekasi\n",
      "5         Zul      L      2024           170             45      Tanggerang\n",
      "6    Jonathan      L      2024           170             60      Tanggerang\n",
      "7        Yuda      L      2024           170             51          Jaksel\n",
      "8         Joe      P      2024           150             30          Jaktim\n",
      "9       Agnar      L      2024           165             50          Grogol\n",
      "10       Adit      L      2024           165             80            Jawa\n",
      "11      Kahfi      L      2024           165             70           Jambi\n",
      "12      Raziq      L      2024           165             60          Maluku\n",
      "13      Gusti      L      2024           165             13          Manado\n",
      "14      Zufar      L      2024           165             15     Timur Leste\n",
      "15       Didi      L      2024           165             56          Brumai\n",
      "16       Bela      L      2024           165             34          Bekasi\n",
      "17       Echa      P      2024           165             24         Bintaro\n",
      "18       Ratu      P      2024           159             10          Jaktim\n",
      "19      Razan      L      2024           170             20          Bekasi\n",
      "20    Santoso      L      2024           158             47           Depok\n",
      "21     Wibowo      L      2024           165             86           Bogor\n",
      "22    Saputra      L      2024           170             33        Cikarang\n",
      "23      Utomo      L      2024           155             12         Ciputat\n",
      "24  Kurniawan      L      2024           162             75         Serpong\n",
      "25    Handoko      L      2024           168             22         Bandung\n",
      "26    Nugroho      L      2024           159             90        Surabaya\n",
      "27  Wijayanto      L      2024           160             59           Medan\n",
      "28   Setiawan      L      2024           163             17        Makassar\n",
      "29  Mahardika      L      2024           167             64       Denpasar \n"
     ]
    }
   ],
   "source": [
    "import pandas as pd\n",
    "\n",
    "data_hana = pd.read_clipboard()\n",
    "\n",
    "# Menampilkan data\n",
    "print(data_hana)"
   ]
  },
  {
   "cell_type": "code",
   "execution_count": 37,
   "id": "e726ce98-f914-4318-a0bd-ee000e716ee7",
   "metadata": {},
   "outputs": [
    {
     "name": "stdout",
     "output_type": "stream",
     "text": [
      "    Tinggi Badan\n",
      "0            155\n",
      "1            160\n",
      "2            170\n",
      "3            170\n",
      "4            170\n",
      "5            170\n",
      "6            170\n",
      "7            170\n",
      "8            150\n",
      "9            165\n",
      "10           165\n",
      "11           165\n",
      "12           165\n",
      "13           165\n",
      "14           165\n",
      "15           165\n",
      "16           165\n",
      "17           165\n",
      "18           159\n",
      "19           170\n",
      "20           158\n",
      "21           165\n",
      "22           170\n",
      "23           155\n",
      "24           162\n",
      "25           168\n",
      "26           159\n",
      "27           160\n",
      "28           163\n",
      "29           167\n"
     ]
    }
   ],
   "source": [
    "subset_tinggi = data_hana[['Tinggi Badan']]\n",
    "print(subset_tinggi)"
   ]
  },
  {
   "cell_type": "code",
   "execution_count": 45,
   "id": "7d142b76-149a-48a4-95d4-abf6068b644a",
   "metadata": {},
   "outputs": [
    {
     "name": "stdout",
     "output_type": "stream",
     "text": [
      "         Nama Gender  Angkatan Tinggi Badan  Waktu Belajar Wilayah Tinggal\n",
      "0        Hana      P      2024       Pendek             15         Jakarta\n",
      "1       Jorji      L      2024       Pendek             70      Tanggerang\n",
      "2        Arip      L      2024       Pendek             60          Bekasi\n",
      "3      Satria      L      2024       Pendek             30         Jakarta\n",
      "4      Fadhil      L      2024       Pendek             40          Bekasi\n",
      "5         Zul      L      2024       Pendek             45      Tanggerang\n",
      "6    Jonathan      L      2024       Pendek             60      Tanggerang\n",
      "7        Yuda      L      2024       Pendek             51          Jaksel\n",
      "8         Joe      P      2024       Pendek             30          Jaktim\n",
      "9       Agnar      L      2024       Pendek             50          Grogol\n",
      "10       Adit      L      2024       Pendek             80            Jawa\n",
      "11      Kahfi      L      2024       Pendek             70           Jambi\n",
      "12      Raziq      L      2024       Pendek             60          Maluku\n",
      "13      Gusti      L      2024       Pendek             13          Manado\n",
      "14      Zufar      L      2024       Pendek             15     Timur Leste\n",
      "15       Didi      L      2024       Pendek             56          Brumai\n",
      "16       Bela      L      2024       Pendek             34          Bekasi\n",
      "17       Echa      P      2024       Pendek             24         Bintaro\n",
      "18       Ratu      P      2024       Pendek             10          Jaktim\n",
      "19      Razan      L      2024       Pendek             20          Bekasi\n",
      "20    Santoso      L      2024       Pendek             47           Depok\n",
      "21     Wibowo      L      2024       Pendek             86           Bogor\n",
      "22    Saputra      L      2024       Pendek             33        Cikarang\n",
      "23      Utomo      L      2024       Pendek             12         Ciputat\n",
      "24  Kurniawan      L      2024       Pendek             75         Serpong\n",
      "25    Handoko      L      2024       Pendek             22         Bandung\n",
      "26    Nugroho      L      2024       Pendek             90        Surabaya\n",
      "27  Wijayanto      L      2024       Pendek             59           Medan\n",
      "28   Setiawan      L      2024       Pendek             17        Makassar\n",
      "29  Mahardika      L      2024       Pendek             64       Denpasar \n"
     ]
    }
   ],
   "source": [
    "import numpy as np\n",
    "import pandas as pd\n",
    "\n",
    "data_hana['Tinggi Badan'] = pd.to_numeric(data_hana['Tinggi Badan'], errors='coerce')\n",
    "\n",
    "# Mengubah nilai berdasarkan kondisi: jika nilai > 160 maka \"Tinggi\", jika tidak \"Pendek\"\n",
    "data_hana['Tinggi Badan'] = np.where(data_hana['Tinggi Badan'] > 160, 'Tinggi', 'Pendek')\n",
    "\n",
    "print(data_hana)\n"
   ]
  },
  {
   "cell_type": "code",
   "execution_count": 47,
   "id": "5aa3711d-98db-46a1-aa91-33be3382de83",
   "metadata": {},
   "outputs": [
    {
     "name": "stdout",
     "output_type": "stream",
     "text": [
      "     Nama Gender  Angkatan Tinggi Badan  Waktu Belajar Wilayah Tinggal  \\\n",
      "0    Hana      P      2024       Pendek             15         Jakarta   \n",
      "1   Jorji      L      2024       Pendek             70      Tanggerang   \n",
      "2    Arip      L      2024       Pendek             60          Bekasi   \n",
      "3  Satria      L      2024       Pendek             30         Jakarta   \n",
      "4  Fadhil      L      2024       Pendek             40          Bekasi   \n",
      "\n",
      "   Jurusan Fakultas  \n",
      "0  Infor20      FTI  \n",
      "1  Infor20      FTI  \n",
      "2  Infor20      FTI  \n",
      "3  Infor20      FTI  \n",
      "4  Infor20      FTI  \n"
     ]
    }
   ],
   "source": [
    "# Misal, data_hana adalah DataFrame yang sudah ada\n",
    "data_hana['Jurusan'] = 'Infor20'\n",
    "data_hana['Fakultas'] = 'FTI'\n",
    "\n",
    "# Menampilkan beberapa baris untuk verifikasi\n",
    "print(data_hana.head())\n"
   ]
  },
  {
   "cell_type": "code",
   "execution_count": 49,
   "id": "a64d3299-45c4-4350-abe2-c3df57e58154",
   "metadata": {},
   "outputs": [
    {
     "name": "stdout",
     "output_type": "stream",
     "text": [
      "     Nama Gender  Angkatan Tinggi Badan  Waktu Belajar Wilayah Tinggal  \\\n",
      "0    Hana      P      2024       Pendek             15         Jakarta   \n",
      "1   Jorji      L      2024       Pendek             70      Tanggerang   \n",
      "2    Arip      L      2024       Pendek             60          Bekasi   \n",
      "3  Satria      L      2024       Pendek             30         Jakarta   \n",
      "4  Fadhil      L      2024       Pendek             40          Bekasi   \n",
      "\n",
      "   Jurusan  \n",
      "0  Infor20  \n",
      "1  Infor20  \n",
      "2  Infor20  \n",
      "3  Infor20  \n",
      "4  Infor20  \n"
     ]
    }
   ],
   "source": [
    "# Menghapus kolom 'Fakultas' dari DataFrame data_hana\n",
    "data_hana.drop('Fakultas', axis=1, inplace=True)\n",
    "\n",
    "# Menampilkan DataFrame untuk memastikan kolom telah terhapus\n",
    "print(data_hana.head())\n"
   ]
  },
  {
   "cell_type": "code",
   "execution_count": 53,
   "id": "7237e7f1-8d75-4291-af20-2fab984f3ad4",
   "metadata": {},
   "outputs": [
    {
     "name": "stdout",
     "output_type": "stream",
     "text": [
      "    Nama_Gender Angkatan_TinggiBadan                 Gabungan\n",
      "0        Hana P          2024 Pendek       Hana P 2024 Pendek\n",
      "1       Jorji L          2024 Pendek      Jorji L 2024 Pendek\n",
      "2        Arip L          2024 Pendek       Arip L 2024 Pendek\n",
      "3      Satria L          2024 Pendek     Satria L 2024 Pendek\n",
      "4      Fadhil L          2024 Pendek     Fadhil L 2024 Pendek\n",
      "5         Zul L          2024 Pendek        Zul L 2024 Pendek\n",
      "6    Jonathan L          2024 Pendek   Jonathan L 2024 Pendek\n",
      "7        Yuda L          2024 Pendek       Yuda L 2024 Pendek\n",
      "8         Joe P          2024 Pendek        Joe P 2024 Pendek\n",
      "9       Agnar L          2024 Pendek      Agnar L 2024 Pendek\n",
      "10       Adit L          2024 Pendek       Adit L 2024 Pendek\n",
      "11      Kahfi L          2024 Pendek      Kahfi L 2024 Pendek\n",
      "12      Raziq L          2024 Pendek      Raziq L 2024 Pendek\n",
      "13      Gusti L          2024 Pendek      Gusti L 2024 Pendek\n",
      "14      Zufar L          2024 Pendek      Zufar L 2024 Pendek\n",
      "15       Didi L          2024 Pendek       Didi L 2024 Pendek\n",
      "16       Bela L          2024 Pendek       Bela L 2024 Pendek\n",
      "17       Echa P          2024 Pendek       Echa P 2024 Pendek\n",
      "18       Ratu P          2024 Pendek       Ratu P 2024 Pendek\n",
      "19      Razan L          2024 Pendek      Razan L 2024 Pendek\n",
      "20    Santoso L          2024 Pendek    Santoso L 2024 Pendek\n",
      "21     Wibowo L          2024 Pendek     Wibowo L 2024 Pendek\n",
      "22    Saputra L          2024 Pendek    Saputra L 2024 Pendek\n",
      "23      Utomo L          2024 Pendek      Utomo L 2024 Pendek\n",
      "24  Kurniawan L          2024 Pendek  Kurniawan L 2024 Pendek\n",
      "25    Handoko L          2024 Pendek    Handoko L 2024 Pendek\n",
      "26    Nugroho L          2024 Pendek    Nugroho L 2024 Pendek\n",
      "27  Wijayanto L          2024 Pendek  Wijayanto L 2024 Pendek\n",
      "28   Setiawan L          2024 Pendek   Setiawan L 2024 Pendek\n",
      "29  Mahardika L          2024 Pendek  Mahardika L 2024 Pendek\n"
     ]
    }
   ],
   "source": [
    "data_hana['Nama_Gender'] = data_hana['Nama'].astype(str) + \" \" + data_hana['Gender'].astype(str)\n",
    "\n",
    "data_hana['Angkatan_TinggiBadan'] = data_hana['Angkatan'].astype(str) + \" \" + data_hana['Tinggi Badan'].astype(str)\n",
    "\n",
    "data_hana['Gabungan'] = data_hana['Nama_Gender'] + \" \" + data_hana['Angkatan_TinggiBadan']\n",
    "\n",
    "# Menampilkan hasil penggabungan\n",
    "print(data_hana[['Nama_Gender', 'Angkatan_TinggiBadan', 'Gabungan']])"
   ]
  },
  {
   "cell_type": "code",
   "execution_count": 55,
   "id": "333180a1-91b6-45e8-ba98-4c82bffce162",
   "metadata": {},
   "outputs": [
    {
     "name": "stdout",
     "output_type": "stream",
     "text": [
      "         Nama Gender  Angkatan Tinggi Badan  Waktu Belajar Wilayah Tinggal  \\\n",
      "0        Hana      P      2024       Pendek             15         Jakarta   \n",
      "1       Jorji      L      2024       Pendek             70      Tanggerang   \n",
      "2        Arip      L      2024       Pendek             60          Bekasi   \n",
      "3      Satria      L      2024       Pendek             30         Jakarta   \n",
      "4      Fadhil      L      2024       Pendek             40          Bekasi   \n",
      "24  Kurniawan      L      2024       Pendek             75         Serpong   \n",
      "25    Handoko      L      2024       Pendek             22         Bandung   \n",
      "26    Nugroho      L      2024       Pendek             90        Surabaya   \n",
      "27  Wijayanto      L      2024       Pendek             59           Medan   \n",
      "28   Setiawan      L      2024       Pendek             17        Makassar   \n",
      "29  Mahardika      L      2024       Pendek             64       Denpasar    \n",
      "\n",
      "    Jurusan  Nama_Gender Angkatan_TinggiBadan                 Gabungan  \n",
      "0   Infor20       Hana P          2024 Pendek       Hana P 2024 Pendek  \n",
      "1   Infor20      Jorji L          2024 Pendek      Jorji L 2024 Pendek  \n",
      "2   Infor20       Arip L          2024 Pendek       Arip L 2024 Pendek  \n",
      "3   Infor20     Satria L          2024 Pendek     Satria L 2024 Pendek  \n",
      "4   Infor20     Fadhil L          2024 Pendek     Fadhil L 2024 Pendek  \n",
      "24  Infor20  Kurniawan L          2024 Pendek  Kurniawan L 2024 Pendek  \n",
      "25  Infor20    Handoko L          2024 Pendek    Handoko L 2024 Pendek  \n",
      "26  Infor20    Nugroho L          2024 Pendek    Nugroho L 2024 Pendek  \n",
      "27  Infor20  Wijayanto L          2024 Pendek  Wijayanto L 2024 Pendek  \n",
      "28  Infor20   Setiawan L          2024 Pendek   Setiawan L 2024 Pendek  \n",
      "29  Infor20  Mahardika L          2024 Pendek  Mahardika L 2024 Pendek  \n"
     ]
    }
   ],
   "source": [
    "import pandas as pd\n",
    "\n",
    "# Misalkan data_hana adalah DataFrame yang sudah ada\n",
    "\n",
    "# 1. Gabungan baris 1-5 (baris 1 sampai 5, yaitu index 0-4)\n",
    "gabungan_1_5 = data_hana.iloc[0:5]\n",
    "\n",
    "# 2. Gabungan baris 25-30 (baris 25 sampai 30, yaitu index 24-29)\n",
    "gabungan_25_30 = data_hana.iloc[24:30]\n",
    "\n",
    "# 3. Gabungkan kedua subset di atas menjadi satu DataFrame\n",
    "gabungan_total = pd.concat([gabungan_1_5, gabungan_25_30], axis=0)\n",
    "\n",
    "# Menampilkan hasil gabungan\n",
    "print(gabungan_total)\n"
   ]
  },
  {
   "cell_type": "code",
   "execution_count": 57,
   "id": "3fcd3483-77a2-4066-bb0b-26221b09b248",
   "metadata": {},
   "outputs": [
    {
     "ename": "KeyError",
     "evalue": "'waktu perjalanan'",
     "output_type": "error",
     "traceback": [
      "\u001b[1;31m---------------------------------------------------------------------------\u001b[0m",
      "\u001b[1;31mKeyError\u001b[0m                                  Traceback (most recent call last)",
      "\u001b[1;32m~\\AppData\\Local\\Temp\\ipykernel_21804\\3158250979.py\u001b[0m in \u001b[0;36m?\u001b[1;34m()\u001b[0m\n\u001b[0;32m      1\u001b[0m \u001b[1;31m# Mengurutkan DataFrame berdasarkan kolom 'waktu perjalanan'\u001b[0m\u001b[1;33m\u001b[0m\u001b[1;33m\u001b[0m\u001b[0m\n\u001b[1;32m----> 2\u001b[1;33m \u001b[0mdata_hana_sorted\u001b[0m \u001b[1;33m=\u001b[0m \u001b[0mdata_hana\u001b[0m\u001b[1;33m.\u001b[0m\u001b[0msort_values\u001b[0m\u001b[1;33m(\u001b[0m\u001b[0mby\u001b[0m\u001b[1;33m=\u001b[0m\u001b[1;34m'waktu perjalanan'\u001b[0m\u001b[1;33m)\u001b[0m\u001b[1;33m\u001b[0m\u001b[1;33m\u001b[0m\u001b[0m\n\u001b[0m\u001b[0;32m      3\u001b[0m \u001b[1;33m\u001b[0m\u001b[0m\n\u001b[0;32m      4\u001b[0m \u001b[1;31m# Menampilkan DataFrame yang telah diurutkan\u001b[0m\u001b[1;33m\u001b[0m\u001b[1;33m\u001b[0m\u001b[0m\n\u001b[0;32m      5\u001b[0m \u001b[0mprint\u001b[0m\u001b[1;33m(\u001b[0m\u001b[0mdata_hana_sorted\u001b[0m\u001b[1;33m)\u001b[0m\u001b[1;33m\u001b[0m\u001b[1;33m\u001b[0m\u001b[0m\n",
      "\u001b[1;32m~\\anaconda3\\Lib\\site-packages\\pandas\\core\\frame.py\u001b[0m in \u001b[0;36m?\u001b[1;34m(self, by, axis, ascending, inplace, kind, na_position, ignore_index, key)\u001b[0m\n\u001b[0;32m   7185\u001b[0m             \u001b[1;33m)\u001b[0m\u001b[1;33m\u001b[0m\u001b[1;33m\u001b[0m\u001b[0m\n\u001b[0;32m   7186\u001b[0m         \u001b[1;32melif\u001b[0m \u001b[0mlen\u001b[0m\u001b[1;33m(\u001b[0m\u001b[0mby\u001b[0m\u001b[1;33m)\u001b[0m\u001b[1;33m:\u001b[0m\u001b[1;33m\u001b[0m\u001b[1;33m\u001b[0m\u001b[0m\n\u001b[0;32m   7187\u001b[0m             \u001b[1;31m# len(by) == 1\u001b[0m\u001b[1;33m\u001b[0m\u001b[1;33m\u001b[0m\u001b[0m\n\u001b[0;32m   7188\u001b[0m \u001b[1;33m\u001b[0m\u001b[0m\n\u001b[1;32m-> 7189\u001b[1;33m             \u001b[0mk\u001b[0m \u001b[1;33m=\u001b[0m \u001b[0mself\u001b[0m\u001b[1;33m.\u001b[0m\u001b[0m_get_label_or_level_values\u001b[0m\u001b[1;33m(\u001b[0m\u001b[0mby\u001b[0m\u001b[1;33m[\u001b[0m\u001b[1;36m0\u001b[0m\u001b[1;33m]\u001b[0m\u001b[1;33m,\u001b[0m \u001b[0maxis\u001b[0m\u001b[1;33m=\u001b[0m\u001b[0maxis\u001b[0m\u001b[1;33m)\u001b[0m\u001b[1;33m\u001b[0m\u001b[1;33m\u001b[0m\u001b[0m\n\u001b[0m\u001b[0;32m   7190\u001b[0m \u001b[1;33m\u001b[0m\u001b[0m\n\u001b[0;32m   7191\u001b[0m             \u001b[1;31m# need to rewrap column in Series to apply key function\u001b[0m\u001b[1;33m\u001b[0m\u001b[1;33m\u001b[0m\u001b[0m\n\u001b[0;32m   7192\u001b[0m             \u001b[1;32mif\u001b[0m \u001b[0mkey\u001b[0m \u001b[1;32mis\u001b[0m \u001b[1;32mnot\u001b[0m \u001b[1;32mNone\u001b[0m\u001b[1;33m:\u001b[0m\u001b[1;33m\u001b[0m\u001b[1;33m\u001b[0m\u001b[0m\n",
      "\u001b[1;32m~\\anaconda3\\Lib\\site-packages\\pandas\\core\\generic.py\u001b[0m in \u001b[0;36m?\u001b[1;34m(self, key, axis)\u001b[0m\n\u001b[0;32m   1907\u001b[0m             \u001b[0mvalues\u001b[0m \u001b[1;33m=\u001b[0m \u001b[0mself\u001b[0m\u001b[1;33m.\u001b[0m\u001b[0mxs\u001b[0m\u001b[1;33m(\u001b[0m\u001b[0mkey\u001b[0m\u001b[1;33m,\u001b[0m \u001b[0maxis\u001b[0m\u001b[1;33m=\u001b[0m\u001b[0mother_axes\u001b[0m\u001b[1;33m[\u001b[0m\u001b[1;36m0\u001b[0m\u001b[1;33m]\u001b[0m\u001b[1;33m)\u001b[0m\u001b[1;33m.\u001b[0m\u001b[0m_values\u001b[0m\u001b[1;33m\u001b[0m\u001b[1;33m\u001b[0m\u001b[0m\n\u001b[0;32m   1908\u001b[0m         \u001b[1;32melif\u001b[0m \u001b[0mself\u001b[0m\u001b[1;33m.\u001b[0m\u001b[0m_is_level_reference\u001b[0m\u001b[1;33m(\u001b[0m\u001b[0mkey\u001b[0m\u001b[1;33m,\u001b[0m \u001b[0maxis\u001b[0m\u001b[1;33m=\u001b[0m\u001b[0maxis\u001b[0m\u001b[1;33m)\u001b[0m\u001b[1;33m:\u001b[0m\u001b[1;33m\u001b[0m\u001b[1;33m\u001b[0m\u001b[0m\n\u001b[0;32m   1909\u001b[0m             \u001b[0mvalues\u001b[0m \u001b[1;33m=\u001b[0m \u001b[0mself\u001b[0m\u001b[1;33m.\u001b[0m\u001b[0maxes\u001b[0m\u001b[1;33m[\u001b[0m\u001b[0maxis\u001b[0m\u001b[1;33m]\u001b[0m\u001b[1;33m.\u001b[0m\u001b[0mget_level_values\u001b[0m\u001b[1;33m(\u001b[0m\u001b[0mkey\u001b[0m\u001b[1;33m)\u001b[0m\u001b[1;33m.\u001b[0m\u001b[0m_values\u001b[0m\u001b[1;33m\u001b[0m\u001b[1;33m\u001b[0m\u001b[0m\n\u001b[0;32m   1910\u001b[0m         \u001b[1;32melse\u001b[0m\u001b[1;33m:\u001b[0m\u001b[1;33m\u001b[0m\u001b[1;33m\u001b[0m\u001b[0m\n\u001b[1;32m-> 1911\u001b[1;33m             \u001b[1;32mraise\u001b[0m \u001b[0mKeyError\u001b[0m\u001b[1;33m(\u001b[0m\u001b[0mkey\u001b[0m\u001b[1;33m)\u001b[0m\u001b[1;33m\u001b[0m\u001b[1;33m\u001b[0m\u001b[0m\n\u001b[0m\u001b[0;32m   1912\u001b[0m \u001b[1;33m\u001b[0m\u001b[0m\n\u001b[0;32m   1913\u001b[0m         \u001b[1;31m# Check for duplicates\u001b[0m\u001b[1;33m\u001b[0m\u001b[1;33m\u001b[0m\u001b[0m\n\u001b[0;32m   1914\u001b[0m         \u001b[1;32mif\u001b[0m \u001b[0mvalues\u001b[0m\u001b[1;33m.\u001b[0m\u001b[0mndim\u001b[0m \u001b[1;33m>\u001b[0m \u001b[1;36m1\u001b[0m\u001b[1;33m:\u001b[0m\u001b[1;33m\u001b[0m\u001b[1;33m\u001b[0m\u001b[0m\n",
      "\u001b[1;31mKeyError\u001b[0m: 'waktu perjalanan'"
     ]
    }
   ],
   "source": [
    "# Mengurutkan DataFrame berdasarkan kolom 'waktu perjalanan'\n",
    "data_hana_sorted = data_hana.sort_values(by='waktu perjalanan')\n",
    "\n",
    "# Menampilkan DataFrame yang telah diurutkan\n",
    "print(data_hana_sorted)\n"
   ]
  },
  {
   "cell_type": "code",
   "execution_count": 59,
   "id": "59865f9f-891a-4782-aed5-20d640ae92e6",
   "metadata": {},
   "outputs": [
    {
     "name": "stdout",
     "output_type": "stream",
     "text": [
      "Index(['Nama', 'Gender', 'Angkatan', 'Tinggi Badan', 'Waktu Belajar',\n",
      "       'Wilayah Tinggal', 'Jurusan', 'Nama_Gender', 'Angkatan_TinggiBadan',\n",
      "       'Gabungan'],\n",
      "      dtype='object')\n"
     ]
    },
    {
     "ename": "KeyError",
     "evalue": "'Waktu Perjalanan'",
     "output_type": "error",
     "traceback": [
      "\u001b[1;31m---------------------------------------------------------------------------\u001b[0m",
      "\u001b[1;31mKeyError\u001b[0m                                  Traceback (most recent call last)",
      "\u001b[1;32m~\\AppData\\Local\\Temp\\ipykernel_21804\\1601251747.py\u001b[0m in \u001b[0;36m?\u001b[1;34m()\u001b[0m\n\u001b[0;32m      1\u001b[0m \u001b[1;31m# Periksa kolom yang ada\u001b[0m\u001b[1;33m\u001b[0m\u001b[1;33m\u001b[0m\u001b[0m\n\u001b[0;32m      2\u001b[0m \u001b[0mprint\u001b[0m\u001b[1;33m(\u001b[0m\u001b[0mdata_hana\u001b[0m\u001b[1;33m.\u001b[0m\u001b[0mcolumns\u001b[0m\u001b[1;33m)\u001b[0m\u001b[1;33m\u001b[0m\u001b[1;33m\u001b[0m\u001b[0m\n\u001b[0;32m      3\u001b[0m \u001b[1;33m\u001b[0m\u001b[0m\n\u001b[0;32m      4\u001b[0m \u001b[1;31m# Misalnya, jika kolom yang benar adalah \"Waktu Perjalanan\"\u001b[0m\u001b[1;33m\u001b[0m\u001b[1;33m\u001b[0m\u001b[0m\n\u001b[1;32m----> 5\u001b[1;33m \u001b[0mdata_hana_sorted\u001b[0m \u001b[1;33m=\u001b[0m \u001b[0mdata_hana\u001b[0m\u001b[1;33m.\u001b[0m\u001b[0msort_values\u001b[0m\u001b[1;33m(\u001b[0m\u001b[0mby\u001b[0m\u001b[1;33m=\u001b[0m\u001b[1;34m'Waktu Perjalanan'\u001b[0m\u001b[1;33m)\u001b[0m\u001b[1;33m\u001b[0m\u001b[1;33m\u001b[0m\u001b[0m\n\u001b[0m\u001b[0;32m      6\u001b[0m \u001b[1;33m\u001b[0m\u001b[0m\n\u001b[0;32m      7\u001b[0m \u001b[0mprint\u001b[0m\u001b[1;33m(\u001b[0m\u001b[0mdata_hana_sorted\u001b[0m\u001b[1;33m)\u001b[0m\u001b[1;33m\u001b[0m\u001b[1;33m\u001b[0m\u001b[0m\n",
      "\u001b[1;32m~\\anaconda3\\Lib\\site-packages\\pandas\\core\\frame.py\u001b[0m in \u001b[0;36m?\u001b[1;34m(self, by, axis, ascending, inplace, kind, na_position, ignore_index, key)\u001b[0m\n\u001b[0;32m   7185\u001b[0m             \u001b[1;33m)\u001b[0m\u001b[1;33m\u001b[0m\u001b[1;33m\u001b[0m\u001b[0m\n\u001b[0;32m   7186\u001b[0m         \u001b[1;32melif\u001b[0m \u001b[0mlen\u001b[0m\u001b[1;33m(\u001b[0m\u001b[0mby\u001b[0m\u001b[1;33m)\u001b[0m\u001b[1;33m:\u001b[0m\u001b[1;33m\u001b[0m\u001b[1;33m\u001b[0m\u001b[0m\n\u001b[0;32m   7187\u001b[0m             \u001b[1;31m# len(by) == 1\u001b[0m\u001b[1;33m\u001b[0m\u001b[1;33m\u001b[0m\u001b[0m\n\u001b[0;32m   7188\u001b[0m \u001b[1;33m\u001b[0m\u001b[0m\n\u001b[1;32m-> 7189\u001b[1;33m             \u001b[0mk\u001b[0m \u001b[1;33m=\u001b[0m \u001b[0mself\u001b[0m\u001b[1;33m.\u001b[0m\u001b[0m_get_label_or_level_values\u001b[0m\u001b[1;33m(\u001b[0m\u001b[0mby\u001b[0m\u001b[1;33m[\u001b[0m\u001b[1;36m0\u001b[0m\u001b[1;33m]\u001b[0m\u001b[1;33m,\u001b[0m \u001b[0maxis\u001b[0m\u001b[1;33m=\u001b[0m\u001b[0maxis\u001b[0m\u001b[1;33m)\u001b[0m\u001b[1;33m\u001b[0m\u001b[1;33m\u001b[0m\u001b[0m\n\u001b[0m\u001b[0;32m   7190\u001b[0m \u001b[1;33m\u001b[0m\u001b[0m\n\u001b[0;32m   7191\u001b[0m             \u001b[1;31m# need to rewrap column in Series to apply key function\u001b[0m\u001b[1;33m\u001b[0m\u001b[1;33m\u001b[0m\u001b[0m\n\u001b[0;32m   7192\u001b[0m             \u001b[1;32mif\u001b[0m \u001b[0mkey\u001b[0m \u001b[1;32mis\u001b[0m \u001b[1;32mnot\u001b[0m \u001b[1;32mNone\u001b[0m\u001b[1;33m:\u001b[0m\u001b[1;33m\u001b[0m\u001b[1;33m\u001b[0m\u001b[0m\n",
      "\u001b[1;32m~\\anaconda3\\Lib\\site-packages\\pandas\\core\\generic.py\u001b[0m in \u001b[0;36m?\u001b[1;34m(self, key, axis)\u001b[0m\n\u001b[0;32m   1907\u001b[0m             \u001b[0mvalues\u001b[0m \u001b[1;33m=\u001b[0m \u001b[0mself\u001b[0m\u001b[1;33m.\u001b[0m\u001b[0mxs\u001b[0m\u001b[1;33m(\u001b[0m\u001b[0mkey\u001b[0m\u001b[1;33m,\u001b[0m \u001b[0maxis\u001b[0m\u001b[1;33m=\u001b[0m\u001b[0mother_axes\u001b[0m\u001b[1;33m[\u001b[0m\u001b[1;36m0\u001b[0m\u001b[1;33m]\u001b[0m\u001b[1;33m)\u001b[0m\u001b[1;33m.\u001b[0m\u001b[0m_values\u001b[0m\u001b[1;33m\u001b[0m\u001b[1;33m\u001b[0m\u001b[0m\n\u001b[0;32m   1908\u001b[0m         \u001b[1;32melif\u001b[0m \u001b[0mself\u001b[0m\u001b[1;33m.\u001b[0m\u001b[0m_is_level_reference\u001b[0m\u001b[1;33m(\u001b[0m\u001b[0mkey\u001b[0m\u001b[1;33m,\u001b[0m \u001b[0maxis\u001b[0m\u001b[1;33m=\u001b[0m\u001b[0maxis\u001b[0m\u001b[1;33m)\u001b[0m\u001b[1;33m:\u001b[0m\u001b[1;33m\u001b[0m\u001b[1;33m\u001b[0m\u001b[0m\n\u001b[0;32m   1909\u001b[0m             \u001b[0mvalues\u001b[0m \u001b[1;33m=\u001b[0m \u001b[0mself\u001b[0m\u001b[1;33m.\u001b[0m\u001b[0maxes\u001b[0m\u001b[1;33m[\u001b[0m\u001b[0maxis\u001b[0m\u001b[1;33m]\u001b[0m\u001b[1;33m.\u001b[0m\u001b[0mget_level_values\u001b[0m\u001b[1;33m(\u001b[0m\u001b[0mkey\u001b[0m\u001b[1;33m)\u001b[0m\u001b[1;33m.\u001b[0m\u001b[0m_values\u001b[0m\u001b[1;33m\u001b[0m\u001b[1;33m\u001b[0m\u001b[0m\n\u001b[0;32m   1910\u001b[0m         \u001b[1;32melse\u001b[0m\u001b[1;33m:\u001b[0m\u001b[1;33m\u001b[0m\u001b[1;33m\u001b[0m\u001b[0m\n\u001b[1;32m-> 1911\u001b[1;33m             \u001b[1;32mraise\u001b[0m \u001b[0mKeyError\u001b[0m\u001b[1;33m(\u001b[0m\u001b[0mkey\u001b[0m\u001b[1;33m)\u001b[0m\u001b[1;33m\u001b[0m\u001b[1;33m\u001b[0m\u001b[0m\n\u001b[0m\u001b[0;32m   1912\u001b[0m \u001b[1;33m\u001b[0m\u001b[0m\n\u001b[0;32m   1913\u001b[0m         \u001b[1;31m# Check for duplicates\u001b[0m\u001b[1;33m\u001b[0m\u001b[1;33m\u001b[0m\u001b[0m\n\u001b[0;32m   1914\u001b[0m         \u001b[1;32mif\u001b[0m \u001b[0mvalues\u001b[0m\u001b[1;33m.\u001b[0m\u001b[0mndim\u001b[0m \u001b[1;33m>\u001b[0m \u001b[1;36m1\u001b[0m\u001b[1;33m:\u001b[0m\u001b[1;33m\u001b[0m\u001b[1;33m\u001b[0m\u001b[0m\n",
      "\u001b[1;31mKeyError\u001b[0m: 'Waktu Perjalanan'"
     ]
    }
   ],
   "source": [
    "# Periksa kolom yang ada\n",
    "print(data_hana.columns)\n",
    "\n",
    "# Misalnya, jika kolom yang benar adalah \"Waktu Perjalanan\"\n",
    "data_hana_sorted = data_hana.sort_values(by='Waktu Perjalanan')\n",
    "\n",
    "print(data_hana_sorted)\n"
   ]
  },
  {
   "cell_type": "code",
   "execution_count": 61,
   "id": "961d6298-fd85-4cb1-847b-93af2cf2fea5",
   "metadata": {},
   "outputs": [
    {
     "name": "stdout",
     "output_type": "stream",
     "text": [
      "Index(['Nama', 'Gender', 'Angkatan', 'Tinggi Badan', 'Waktu Belajar',\n",
      "       'Wilayah Tinggal', 'Jurusan', 'Nama_Gender', 'Angkatan_TinggiBadan',\n",
      "       'Gabungan'],\n",
      "      dtype='object')\n"
     ]
    },
    {
     "ename": "KeyError",
     "evalue": "'waktu belajar'",
     "output_type": "error",
     "traceback": [
      "\u001b[1;31m---------------------------------------------------------------------------\u001b[0m",
      "\u001b[1;31mKeyError\u001b[0m                                  Traceback (most recent call last)",
      "\u001b[1;32m~\\AppData\\Local\\Temp\\ipykernel_21804\\1009683035.py\u001b[0m in \u001b[0;36m?\u001b[1;34m()\u001b[0m\n\u001b[0;32m      1\u001b[0m \u001b[1;31m# Cek dulu nama kolom yang ada\u001b[0m\u001b[1;33m\u001b[0m\u001b[1;33m\u001b[0m\u001b[0m\n\u001b[0;32m      2\u001b[0m \u001b[0mprint\u001b[0m\u001b[1;33m(\u001b[0m\u001b[0mdata_hana\u001b[0m\u001b[1;33m.\u001b[0m\u001b[0mcolumns\u001b[0m\u001b[1;33m)\u001b[0m\u001b[1;33m\u001b[0m\u001b[1;33m\u001b[0m\u001b[0m\n\u001b[0;32m      3\u001b[0m \u001b[1;33m\u001b[0m\u001b[0m\n\u001b[0;32m      4\u001b[0m \u001b[1;31m# Mengurutkan DataFrame berdasarkan kolom 'waktu belajar'\u001b[0m\u001b[1;33m\u001b[0m\u001b[1;33m\u001b[0m\u001b[0m\n\u001b[1;32m----> 5\u001b[1;33m \u001b[0mdata_hana_sorted\u001b[0m \u001b[1;33m=\u001b[0m \u001b[0mdata_hana\u001b[0m\u001b[1;33m.\u001b[0m\u001b[0msort_values\u001b[0m\u001b[1;33m(\u001b[0m\u001b[0mby\u001b[0m\u001b[1;33m=\u001b[0m\u001b[1;34m'waktu belajar'\u001b[0m\u001b[1;33m)\u001b[0m\u001b[1;33m\u001b[0m\u001b[1;33m\u001b[0m\u001b[0m\n\u001b[0m\u001b[0;32m      6\u001b[0m \u001b[1;33m\u001b[0m\u001b[0m\n\u001b[0;32m      7\u001b[0m \u001b[0mprint\u001b[0m\u001b[1;33m(\u001b[0m\u001b[0mdata_hana_sorted\u001b[0m\u001b[1;33m)\u001b[0m\u001b[1;33m\u001b[0m\u001b[1;33m\u001b[0m\u001b[0m\n",
      "\u001b[1;32m~\\anaconda3\\Lib\\site-packages\\pandas\\core\\frame.py\u001b[0m in \u001b[0;36m?\u001b[1;34m(self, by, axis, ascending, inplace, kind, na_position, ignore_index, key)\u001b[0m\n\u001b[0;32m   7185\u001b[0m             \u001b[1;33m)\u001b[0m\u001b[1;33m\u001b[0m\u001b[1;33m\u001b[0m\u001b[0m\n\u001b[0;32m   7186\u001b[0m         \u001b[1;32melif\u001b[0m \u001b[0mlen\u001b[0m\u001b[1;33m(\u001b[0m\u001b[0mby\u001b[0m\u001b[1;33m)\u001b[0m\u001b[1;33m:\u001b[0m\u001b[1;33m\u001b[0m\u001b[1;33m\u001b[0m\u001b[0m\n\u001b[0;32m   7187\u001b[0m             \u001b[1;31m# len(by) == 1\u001b[0m\u001b[1;33m\u001b[0m\u001b[1;33m\u001b[0m\u001b[0m\n\u001b[0;32m   7188\u001b[0m \u001b[1;33m\u001b[0m\u001b[0m\n\u001b[1;32m-> 7189\u001b[1;33m             \u001b[0mk\u001b[0m \u001b[1;33m=\u001b[0m \u001b[0mself\u001b[0m\u001b[1;33m.\u001b[0m\u001b[0m_get_label_or_level_values\u001b[0m\u001b[1;33m(\u001b[0m\u001b[0mby\u001b[0m\u001b[1;33m[\u001b[0m\u001b[1;36m0\u001b[0m\u001b[1;33m]\u001b[0m\u001b[1;33m,\u001b[0m \u001b[0maxis\u001b[0m\u001b[1;33m=\u001b[0m\u001b[0maxis\u001b[0m\u001b[1;33m)\u001b[0m\u001b[1;33m\u001b[0m\u001b[1;33m\u001b[0m\u001b[0m\n\u001b[0m\u001b[0;32m   7190\u001b[0m \u001b[1;33m\u001b[0m\u001b[0m\n\u001b[0;32m   7191\u001b[0m             \u001b[1;31m# need to rewrap column in Series to apply key function\u001b[0m\u001b[1;33m\u001b[0m\u001b[1;33m\u001b[0m\u001b[0m\n\u001b[0;32m   7192\u001b[0m             \u001b[1;32mif\u001b[0m \u001b[0mkey\u001b[0m \u001b[1;32mis\u001b[0m \u001b[1;32mnot\u001b[0m \u001b[1;32mNone\u001b[0m\u001b[1;33m:\u001b[0m\u001b[1;33m\u001b[0m\u001b[1;33m\u001b[0m\u001b[0m\n",
      "\u001b[1;32m~\\anaconda3\\Lib\\site-packages\\pandas\\core\\generic.py\u001b[0m in \u001b[0;36m?\u001b[1;34m(self, key, axis)\u001b[0m\n\u001b[0;32m   1907\u001b[0m             \u001b[0mvalues\u001b[0m \u001b[1;33m=\u001b[0m \u001b[0mself\u001b[0m\u001b[1;33m.\u001b[0m\u001b[0mxs\u001b[0m\u001b[1;33m(\u001b[0m\u001b[0mkey\u001b[0m\u001b[1;33m,\u001b[0m \u001b[0maxis\u001b[0m\u001b[1;33m=\u001b[0m\u001b[0mother_axes\u001b[0m\u001b[1;33m[\u001b[0m\u001b[1;36m0\u001b[0m\u001b[1;33m]\u001b[0m\u001b[1;33m)\u001b[0m\u001b[1;33m.\u001b[0m\u001b[0m_values\u001b[0m\u001b[1;33m\u001b[0m\u001b[1;33m\u001b[0m\u001b[0m\n\u001b[0;32m   1908\u001b[0m         \u001b[1;32melif\u001b[0m \u001b[0mself\u001b[0m\u001b[1;33m.\u001b[0m\u001b[0m_is_level_reference\u001b[0m\u001b[1;33m(\u001b[0m\u001b[0mkey\u001b[0m\u001b[1;33m,\u001b[0m \u001b[0maxis\u001b[0m\u001b[1;33m=\u001b[0m\u001b[0maxis\u001b[0m\u001b[1;33m)\u001b[0m\u001b[1;33m:\u001b[0m\u001b[1;33m\u001b[0m\u001b[1;33m\u001b[0m\u001b[0m\n\u001b[0;32m   1909\u001b[0m             \u001b[0mvalues\u001b[0m \u001b[1;33m=\u001b[0m \u001b[0mself\u001b[0m\u001b[1;33m.\u001b[0m\u001b[0maxes\u001b[0m\u001b[1;33m[\u001b[0m\u001b[0maxis\u001b[0m\u001b[1;33m]\u001b[0m\u001b[1;33m.\u001b[0m\u001b[0mget_level_values\u001b[0m\u001b[1;33m(\u001b[0m\u001b[0mkey\u001b[0m\u001b[1;33m)\u001b[0m\u001b[1;33m.\u001b[0m\u001b[0m_values\u001b[0m\u001b[1;33m\u001b[0m\u001b[1;33m\u001b[0m\u001b[0m\n\u001b[0;32m   1910\u001b[0m         \u001b[1;32melse\u001b[0m\u001b[1;33m:\u001b[0m\u001b[1;33m\u001b[0m\u001b[1;33m\u001b[0m\u001b[0m\n\u001b[1;32m-> 1911\u001b[1;33m             \u001b[1;32mraise\u001b[0m \u001b[0mKeyError\u001b[0m\u001b[1;33m(\u001b[0m\u001b[0mkey\u001b[0m\u001b[1;33m)\u001b[0m\u001b[1;33m\u001b[0m\u001b[1;33m\u001b[0m\u001b[0m\n\u001b[0m\u001b[0;32m   1912\u001b[0m \u001b[1;33m\u001b[0m\u001b[0m\n\u001b[0;32m   1913\u001b[0m         \u001b[1;31m# Check for duplicates\u001b[0m\u001b[1;33m\u001b[0m\u001b[1;33m\u001b[0m\u001b[0m\n\u001b[0;32m   1914\u001b[0m         \u001b[1;32mif\u001b[0m \u001b[0mvalues\u001b[0m\u001b[1;33m.\u001b[0m\u001b[0mndim\u001b[0m \u001b[1;33m>\u001b[0m \u001b[1;36m1\u001b[0m\u001b[1;33m:\u001b[0m\u001b[1;33m\u001b[0m\u001b[1;33m\u001b[0m\u001b[0m\n",
      "\u001b[1;31mKeyError\u001b[0m: 'waktu belajar'"
     ]
    }
   ],
   "source": [
    "# Cek dulu nama kolom yang ada\n",
    "print(data_hana.columns)\n",
    "\n",
    "# Mengurutkan DataFrame berdasarkan kolom 'waktu belajar'\n",
    "data_hana_sorted = data_hana.sort_values(by='waktu belajar')\n",
    "\n",
    "print(data_hana_sorted)\n"
   ]
  },
  {
   "cell_type": "code",
   "execution_count": 63,
   "id": "a65034ec-2744-4fab-b405-98f5ce537706",
   "metadata": {},
   "outputs": [
    {
     "name": "stdout",
     "output_type": "stream",
     "text": [
      "Index(['Nama', 'Gender', 'Angkatan', 'Tinggi Badan', 'Waktu Belajar',\n",
      "       'Wilayah Tinggal', 'Jurusan', 'Nama_Gender', 'Angkatan_TinggiBadan',\n",
      "       'Gabungan'],\n",
      "      dtype='object')\n",
      "         Nama Gender  Angkatan Tinggi Badan  Waktu Belajar Wilayah Tinggal  \\\n",
      "18       Ratu      P      2024       Pendek             10          Jaktim   \n",
      "23      Utomo      L      2024       Pendek             12         Ciputat   \n",
      "13      Gusti      L      2024       Pendek             13          Manado   \n",
      "0        Hana      P      2024       Pendek             15         Jakarta   \n",
      "14      Zufar      L      2024       Pendek             15     Timur Leste   \n",
      "28   Setiawan      L      2024       Pendek             17        Makassar   \n",
      "19      Razan      L      2024       Pendek             20          Bekasi   \n",
      "25    Handoko      L      2024       Pendek             22         Bandung   \n",
      "17       Echa      P      2024       Pendek             24         Bintaro   \n",
      "8         Joe      P      2024       Pendek             30          Jaktim   \n",
      "3      Satria      L      2024       Pendek             30         Jakarta   \n",
      "22    Saputra      L      2024       Pendek             33        Cikarang   \n",
      "16       Bela      L      2024       Pendek             34          Bekasi   \n",
      "4      Fadhil      L      2024       Pendek             40          Bekasi   \n",
      "5         Zul      L      2024       Pendek             45      Tanggerang   \n",
      "20    Santoso      L      2024       Pendek             47           Depok   \n",
      "9       Agnar      L      2024       Pendek             50          Grogol   \n",
      "7        Yuda      L      2024       Pendek             51          Jaksel   \n",
      "15       Didi      L      2024       Pendek             56          Brumai   \n",
      "27  Wijayanto      L      2024       Pendek             59           Medan   \n",
      "2        Arip      L      2024       Pendek             60          Bekasi   \n",
      "6    Jonathan      L      2024       Pendek             60      Tanggerang   \n",
      "12      Raziq      L      2024       Pendek             60          Maluku   \n",
      "29  Mahardika      L      2024       Pendek             64       Denpasar    \n",
      "11      Kahfi      L      2024       Pendek             70           Jambi   \n",
      "1       Jorji      L      2024       Pendek             70      Tanggerang   \n",
      "24  Kurniawan      L      2024       Pendek             75         Serpong   \n",
      "10       Adit      L      2024       Pendek             80            Jawa   \n",
      "21     Wibowo      L      2024       Pendek             86           Bogor   \n",
      "26    Nugroho      L      2024       Pendek             90        Surabaya   \n",
      "\n",
      "    Jurusan  Nama_Gender Angkatan_TinggiBadan                 Gabungan  \n",
      "18  Infor20       Ratu P          2024 Pendek       Ratu P 2024 Pendek  \n",
      "23  Infor20      Utomo L          2024 Pendek      Utomo L 2024 Pendek  \n",
      "13  Infor20      Gusti L          2024 Pendek      Gusti L 2024 Pendek  \n",
      "0   Infor20       Hana P          2024 Pendek       Hana P 2024 Pendek  \n",
      "14  Infor20      Zufar L          2024 Pendek      Zufar L 2024 Pendek  \n",
      "28  Infor20   Setiawan L          2024 Pendek   Setiawan L 2024 Pendek  \n",
      "19  Infor20      Razan L          2024 Pendek      Razan L 2024 Pendek  \n",
      "25  Infor20    Handoko L          2024 Pendek    Handoko L 2024 Pendek  \n",
      "17  Infor20       Echa P          2024 Pendek       Echa P 2024 Pendek  \n",
      "8   Infor20        Joe P          2024 Pendek        Joe P 2024 Pendek  \n",
      "3   Infor20     Satria L          2024 Pendek     Satria L 2024 Pendek  \n",
      "22  Infor20    Saputra L          2024 Pendek    Saputra L 2024 Pendek  \n",
      "16  Infor20       Bela L          2024 Pendek       Bela L 2024 Pendek  \n",
      "4   Infor20     Fadhil L          2024 Pendek     Fadhil L 2024 Pendek  \n",
      "5   Infor20        Zul L          2024 Pendek        Zul L 2024 Pendek  \n",
      "20  Infor20    Santoso L          2024 Pendek    Santoso L 2024 Pendek  \n",
      "9   Infor20      Agnar L          2024 Pendek      Agnar L 2024 Pendek  \n",
      "7   Infor20       Yuda L          2024 Pendek       Yuda L 2024 Pendek  \n",
      "15  Infor20       Didi L          2024 Pendek       Didi L 2024 Pendek  \n",
      "27  Infor20  Wijayanto L          2024 Pendek  Wijayanto L 2024 Pendek  \n",
      "2   Infor20       Arip L          2024 Pendek       Arip L 2024 Pendek  \n",
      "6   Infor20   Jonathan L          2024 Pendek   Jonathan L 2024 Pendek  \n",
      "12  Infor20      Raziq L          2024 Pendek      Raziq L 2024 Pendek  \n",
      "29  Infor20  Mahardika L          2024 Pendek  Mahardika L 2024 Pendek  \n",
      "11  Infor20      Kahfi L          2024 Pendek      Kahfi L 2024 Pendek  \n",
      "1   Infor20      Jorji L          2024 Pendek      Jorji L 2024 Pendek  \n",
      "24  Infor20  Kurniawan L          2024 Pendek  Kurniawan L 2024 Pendek  \n",
      "10  Infor20       Adit L          2024 Pendek       Adit L 2024 Pendek  \n",
      "21  Infor20     Wibowo L          2024 Pendek     Wibowo L 2024 Pendek  \n",
      "26  Infor20    Nugroho L          2024 Pendek    Nugroho L 2024 Pendek  \n"
     ]
    }
   ],
   "source": [
    "# Pastikan nama kolom sudah benar\n",
    "print(data_hana.columns)\n",
    "\n",
    "# Mengurutkan DataFrame berdasarkan kolom 'Waktu Belajar'\n",
    "data_hana_sorted = data_hana.sort_values(by='Waktu Belajar')\n",
    "\n",
    "# Menampilkan DataFrame yang sudah diurutkan\n",
    "print(data_hana_sorted)\n"
   ]
  },
  {
   "cell_type": "code",
   "execution_count": null,
   "id": "10dbea29-38cd-48fe-a4ff-8dd018ff7d26",
   "metadata": {},
   "outputs": [],
   "source": []
  }
 ],
 "metadata": {
  "kernelspec": {
   "display_name": "Python [conda env:base] *",
   "language": "python",
   "name": "conda-base-py"
  },
  "language_info": {
   "codemirror_mode": {
    "name": "ipython",
    "version": 3
   },
   "file_extension": ".py",
   "mimetype": "text/x-python",
   "name": "python",
   "nbconvert_exporter": "python",
   "pygments_lexer": "ipython3",
   "version": "3.12.7"
  }
 },
 "nbformat": 4,
 "nbformat_minor": 5
}
